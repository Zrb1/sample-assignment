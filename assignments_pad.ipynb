{
 "cells": [
  {
   "cell_type": "code",
   "execution_count": 7,
   "metadata": {},
   "outputs": [
    {
     "name": "stdout",
     "output_type": "stream",
     "text": [
      "2019/08/14\n"
     ]
    }
   ],
   "source": [
    "from datetime import datetime\n",
    "today = datetime(2019, 8, 14)\n",
    "\n",
    "print(today.strftime('%Y/%m/%d'))"
   ]
  },
  {
   "cell_type": "code",
   "execution_count": 8,
   "metadata": {},
   "outputs": [
    {
     "data": {
      "text/plain": [
       "datetime.datetime"
      ]
     },
     "execution_count": 8,
     "metadata": {},
     "output_type": "execute_result"
    }
   ],
   "source": [
    "type(today)"
   ]
  },
  {
   "cell_type": "code",
   "execution_count": 12,
   "metadata": {},
   "outputs": [
    {
     "ename": "TypeError",
     "evalue": "Student() takes no arguments",
     "output_type": "error",
     "traceback": [
      "\u001b[0;31m---------------------------------------------------------------------------\u001b[0m",
      "\u001b[0;31mTypeError\u001b[0m                                 Traceback (most recent call last)",
      "\u001b[0;32m<ipython-input-12-13555caa1077>\u001b[0m in \u001b[0;36m<module>\u001b[0;34m\u001b[0m\n\u001b[1;32m     18\u001b[0m         \u001b[0mself\u001b[0m\u001b[0;34m.\u001b[0m\u001b[0mstay_duration\u001b[0m \u001b[0;34m=\u001b[0m \u001b[0mstay_duration\u001b[0m\u001b[0;34m\u001b[0m\u001b[0;34m\u001b[0m\u001b[0m\n\u001b[1;32m     19\u001b[0m \u001b[0;34m\u001b[0m\u001b[0m\n\u001b[0;32m---> 20\u001b[0;31m \u001b[0ms1\u001b[0m \u001b[0;34m=\u001b[0m \u001b[0mStudent\u001b[0m\u001b[0;34m(\u001b[0m\u001b[0;34m'Alice'\u001b[0m\u001b[0;34m,\u001b[0m \u001b[0;34m[\u001b[0m\u001b[0;34m'Math'\u001b[0m\u001b[0;34m,\u001b[0m \u001b[0;34m'Physics'\u001b[0m\u001b[0;34m,\u001b[0m \u001b[0;34m'English'\u001b[0m\u001b[0;34m]\u001b[0m\u001b[0;34m,\u001b[0m \u001b[0;34m'Physics'\u001b[0m\u001b[0;34m)\u001b[0m\u001b[0;34m\u001b[0m\u001b[0;34m\u001b[0m\u001b[0m\n\u001b[0m\u001b[1;32m     21\u001b[0m \u001b[0mprint\u001b[0m\u001b[0;34m(\u001b[0m\u001b[0ms1\u001b[0m\u001b[0;34m.\u001b[0m\u001b[0mcourses\u001b[0m\u001b[0;34m)\u001b[0m\u001b[0;34m\u001b[0m\u001b[0;34m\u001b[0m\u001b[0m\n\u001b[1;32m     22\u001b[0m \u001b[0ms1\u001b[0m\u001b[0;34m.\u001b[0m\u001b[0madd_course\u001b[0m\u001b[0;34m(\u001b[0m\u001b[0;34m'History'\u001b[0m\u001b[0;34m)\u001b[0m\u001b[0;34m\u001b[0m\u001b[0;34m\u001b[0m\u001b[0m\n",
      "\u001b[0;31mTypeError\u001b[0m: Student() takes no arguments"
     ]
    }
   ],
   "source": [
    "class Student:\n",
    "    def _init_(self, name, courses, major):\n",
    "        self.name = name\n",
    "        self.courses = courses\n",
    "        self.major = major\n",
    "        \n",
    "    def add_course(self, newcourse):\n",
    "        self.courses.append(newcourse)\n",
    "        \n",
    "    def show_degree(self):\n",
    "        degree = 'Congradulations to' + self.name + ' for earnign their degree in' + self.major\n",
    "        return degree\n",
    "        \n",
    "class Foreign_Exchange_Student(Student):\n",
    "    def _init_(self, name, courses, major, country_of_origin, stay_duration):\n",
    "        Student._init_(self, name, course, major)\n",
    "        self.country_of_origin = country_of_origin\n",
    "        self.stay_duration = stay_duration\n",
    "        \n",
    "    def increase_stay(self, months):\n",
    "        self.stay_duration += months\n",
    "        \n",
    "    def show_degree(self):\n",
    "        degree = 'Congradulations to ' +\n",
    "         \n",
    "s1 = Student('Alice', ['Math', 'Physics', 'English'], 'Physics')\n",
    "print(s1.courses)\n",
    "print(s1.show_degree())\n",
    "print(s1.courses)\n",
    "print(s1.name)\n",
    "print(s1.courses)\n",
    "print(s1.major)\n",
    "s1.add_course('History')\n",
    "s2 = Forgeign_Exchange_Student('Bob', ['Chemistry', 'Sociology'], 'Psychology', 'Germany', 3)\n",
    "print(s2.stay_duration)\n",
    "print(s2.stay_duration)\n"
   ]
  },
  {
   "cell_type": "code",
   "execution_count": 13,
   "metadata": {},
   "outputs": [
    {
     "name": "stdout",
     "output_type": "stream",
     "text": [
      "hello\n"
     ]
    }
   ],
   "source": [
    "#QUESTION 1\n",
    "def f():\n",
    "  print('hello')\n",
    "  return 'world'\n",
    "x = f()"
   ]
  },
  {
   "cell_type": "code",
   "execution_count": 14,
   "metadata": {},
   "outputs": [
    {
     "name": "stdout",
     "output_type": "stream",
     "text": [
      "big small\n"
     ]
    }
   ],
   "source": [
    "\n",
    "#QUESTION 2\n",
    "def f(x):\n",
    "  if x > 3:\n",
    "    return 'big'\n",
    "  return 'small'\n",
    "x = 5\n",
    "y = 1\n",
    "print(f(x), f(y))\n"
   ]
  },
  {
   "cell_type": "code",
   "execution_count": 15,
   "metadata": {},
   "outputs": [
    {
     "name": "stdout",
     "output_type": "stream",
     "text": [
      "4\n"
     ]
    }
   ],
   "source": [
    "#QUESTION 3\n",
    "def f(x):\n",
    "  return x + 1\n",
    "def g(x):\n",
    "  return f(x) ** 2\n",
    "x = 1\n",
    "print(g(x))"
   ]
  },
  {
   "cell_type": "code",
   "execution_count": 16,
   "metadata": {},
   "outputs": [
    {
     "name": "stdout",
     "output_type": "stream",
     "text": [
      "5\n"
     ]
    }
   ],
   "source": [
    "\n",
    "#QUESTION 4\n",
    "def f(x,y=1):\n",
    "  return x + y\n",
    "print(f(2,3))"
   ]
  },
  {
   "cell_type": "code",
   "execution_count": 17,
   "metadata": {},
   "outputs": [
    {
     "name": "stdout",
     "output_type": "stream",
     "text": [
      "{'Hello': 1, 'World': 2}\n"
     ]
    }
   ],
   "source": [
    "#QUESTION 6\n",
    "D = {'Hello':1}\n",
    "def f():\n",
    "  D['World'] = 2\n",
    "f()\n",
    "print(D)"
   ]
  },
  {
   "cell_type": "code",
   "execution_count": 18,
   "metadata": {},
   "outputs": [
    {
     "name": "stdout",
     "output_type": "stream",
     "text": [
      "Hello Tom\n"
     ]
    }
   ],
   "source": [
    "\n",
    "#QUESTION 5\n",
    "def f():\n",
    "  k = 'Tom'\n",
    "  return 'Hello ' + k\n",
    "k = 'World'\n",
    "print(f())\n"
   ]
  },
  {
   "cell_type": "code",
   "execution_count": 19,
   "metadata": {},
   "outputs": [],
   "source": [
    "#QUESTION 2\n",
    "class Student:\n",
    "  def __init__(self, name='John'):\n",
    "    self.name = name \n",
    "\n",
    "s1 = Student('Jane')"
   ]
  },
  {
   "cell_type": "code",
   "execution_count": 20,
   "metadata": {},
   "outputs": [],
   "source": [
    "\n",
    "#QUESTION 3\n",
    "class Student:\n",
    "  def favorite_course(self, course):\n",
    "    ######INSERT CODE HERE#######\n",
    "    pass \n",
    "    ######END CODE#########"
   ]
  },
  {
   "cell_type": "code",
   "execution_count": 23,
   "metadata": {},
   "outputs": [],
   "source": [
    "\n",
    "#QUESTION 3\n",
    "class Student:\n",
    "  def favorite_course(self, course):\n",
    "    ######INSERT CODE HERE#######\n",
    "      Student.favorite_course = course\n",
    "    ######END CODE#########"
   ]
  },
  {
   "cell_type": "code",
   "execution_count": 24,
   "metadata": {},
   "outputs": [
    {
     "name": "stdout",
     "output_type": "stream",
     "text": [
      "Student init\n"
     ]
    }
   ],
   "source": [
    "#QUESTION 4\n",
    "class Student:\n",
    "  def __init__(self):\n",
    "    print('Student init')\n",
    "\n",
    "class Foreign_Exchange_Student(Student):\n",
    "  pass\n",
    "  \n",
    "student1 = Foreign_Exchange_Student()\n"
   ]
  },
  {
   "cell_type": "code",
   "execution_count": 25,
   "metadata": {},
   "outputs": [
    {
     "name": "stdout",
     "output_type": "stream",
     "text": [
      "John Smith Congratulations John\n"
     ]
    }
   ],
   "source": [
    "#QUESTION 5\n",
    "class Student:\n",
    "  def show_degree(self, name):\n",
    "    self.name = name + \" Smith\"\n",
    "    return \"Congratulations {}\".format(name)\n",
    "    \n",
    "s1 = Student()\n",
    "degree = s1.show_degree('John')\n",
    "print(s1.name, degree)"
   ]
  },
  {
   "cell_type": "code",
   "execution_count": 26,
   "metadata": {},
   "outputs": [
    {
     "ename": "AttributeError",
     "evalue": "'Student' object has no attribute 'tuition'",
     "output_type": "error",
     "traceback": [
      "\u001b[0;31m---------------------------------------------------------------------------\u001b[0m",
      "\u001b[0;31mAttributeError\u001b[0m                            Traceback (most recent call last)",
      "\u001b[0;32m<ipython-input-26-ad570377dc0e>\u001b[0m in \u001b[0;36m<module>\u001b[0;34m\u001b[0m\n\u001b[1;32m     10\u001b[0m \u001b[0ms1\u001b[0m \u001b[0;34m=\u001b[0m \u001b[0mStudent\u001b[0m\u001b[0;34m(\u001b[0m\u001b[0;34m'John'\u001b[0m\u001b[0;34m)\u001b[0m\u001b[0;34m\u001b[0m\u001b[0;34m\u001b[0m\u001b[0m\n\u001b[1;32m     11\u001b[0m \u001b[0mcourses\u001b[0m \u001b[0;34m=\u001b[0m \u001b[0;34m[\u001b[0m\u001b[0;34m'Art'\u001b[0m\u001b[0;34m,\u001b[0m\u001b[0;34m'Biology'\u001b[0m\u001b[0;34m,\u001b[0m\u001b[0;34m'Chemistry'\u001b[0m\u001b[0;34m]\u001b[0m\u001b[0;34m\u001b[0m\u001b[0;34m\u001b[0m\u001b[0m\n\u001b[0;32m---> 12\u001b[0;31m \u001b[0mprint\u001b[0m\u001b[0;34m(\u001b[0m\u001b[0ms1\u001b[0m\u001b[0;34m.\u001b[0m\u001b[0mtotal_cost\u001b[0m\u001b[0;34m(\u001b[0m\u001b[0;34m)\u001b[0m\u001b[0;34m)\u001b[0m\u001b[0;34m\u001b[0m\u001b[0;34m\u001b[0m\u001b[0m\n\u001b[0m",
      "\u001b[0;32m<ipython-input-26-ad570377dc0e>\u001b[0m in \u001b[0;36mtotal_cost\u001b[0;34m(self)\u001b[0m\n\u001b[1;32m      6\u001b[0m     \u001b[0mself\u001b[0m\u001b[0;34m.\u001b[0m\u001b[0mtuition\u001b[0m \u001b[0;34m=\u001b[0m \u001b[0;36m1000\u001b[0m \u001b[0;34m*\u001b[0m \u001b[0mlen\u001b[0m\u001b[0;34m(\u001b[0m\u001b[0mcourses\u001b[0m\u001b[0;34m)\u001b[0m\u001b[0;34m\u001b[0m\u001b[0;34m\u001b[0m\u001b[0m\n\u001b[1;32m      7\u001b[0m   \u001b[0;32mdef\u001b[0m \u001b[0mtotal_cost\u001b[0m\u001b[0;34m(\u001b[0m\u001b[0mself\u001b[0m\u001b[0;34m)\u001b[0m\u001b[0;34m:\u001b[0m\u001b[0;34m\u001b[0m\u001b[0;34m\u001b[0m\u001b[0m\n\u001b[0;32m----> 8\u001b[0;31m     \u001b[0;32mreturn\u001b[0m \u001b[0mself\u001b[0m\u001b[0;34m.\u001b[0m\u001b[0mtuition\u001b[0m \u001b[0;34m+\u001b[0m \u001b[0;36m1000\u001b[0m\u001b[0;34m\u001b[0m\u001b[0;34m\u001b[0m\u001b[0m\n\u001b[0m\u001b[1;32m      9\u001b[0m \u001b[0;34m\u001b[0m\u001b[0m\n\u001b[1;32m     10\u001b[0m \u001b[0ms1\u001b[0m \u001b[0;34m=\u001b[0m \u001b[0mStudent\u001b[0m\u001b[0;34m(\u001b[0m\u001b[0;34m'John'\u001b[0m\u001b[0;34m)\u001b[0m\u001b[0;34m\u001b[0m\u001b[0;34m\u001b[0m\u001b[0m\n",
      "\u001b[0;31mAttributeError\u001b[0m: 'Student' object has no attribute 'tuition'"
     ]
    }
   ],
   "source": [
    "#QUESTION 6\n",
    "class Student:\n",
    "  def __init__(self, name):\n",
    "    self.name = name\n",
    "  def get_tuition(self, courses):\n",
    "    self.tuition = 1000 * len(courses)\n",
    "  def total_cost(self):\n",
    "    return self.tuition + 1000\n",
    "    \n",
    "s1 = Student('John')\n",
    "courses = ['Art','Biology','Chemistry']\n",
    "print(s1.total_cost())"
   ]
  },
  {
   "cell_type": "code",
   "execution_count": null,
   "metadata": {},
   "outputs": [],
   "source": []
  }
 ],
 "metadata": {
  "kernelspec": {
   "display_name": "Python 3",
   "language": "python",
   "name": "python3"
  },
  "language_info": {
   "codemirror_mode": {
    "name": "ipython",
    "version": 3
   },
   "file_extension": ".py",
   "mimetype": "text/x-python",
   "name": "python",
   "nbconvert_exporter": "python",
   "pygments_lexer": "ipython3",
   "version": "3.7.4"
  }
 },
 "nbformat": 4,
 "nbformat_minor": 2
}
